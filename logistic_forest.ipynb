{
 "cells": [
  {
   "cell_type": "code",
   "execution_count": 118,
   "id": "cb9d277e",
   "metadata": {},
   "outputs": [],
   "source": [
    "import pandas as pd\n",
    "import numpy as np\n",
    "from sklearn.model_selection import train_test_split\n",
    "from sklearn.linear_model import LogisticRegression\n",
    "from sklearn.ensemble import RandomForestClassifier\n",
    "from sklearn.metrics import accuracy_score"
   ]
  },
  {
   "cell_type": "code",
   "execution_count": 119,
   "id": "25fcaab8",
   "metadata": {},
   "outputs": [
    {
     "name": "stdout",
     "output_type": "stream",
     "text": [
      "Original shape: (7043, 21)\n",
      "Original columns: ['customerID', 'gender', 'SeniorCitizen', 'Partner', 'Dependents', 'tenure', 'PhoneService', 'MultipleLines', 'InternetService', 'OnlineSecurity', 'OnlineBackup', 'DeviceProtection', 'TechSupport', 'StreamingTV', 'StreamingMovies', 'Contract', 'PaperlessBilling', 'PaymentMethod', 'MonthlyCharges', 'TotalCharges', 'Churn']\n"
     ]
    }
   ],
   "source": [
    "df = pd.read_csv(\"Telco-Customer-Churn.csv\")\n",
    "print(\"Original shape:\", df.shape)\n",
    "print(\"Original columns:\", df.columns.tolist())"
   ]
  },
  {
   "cell_type": "code",
   "execution_count": 120,
   "id": "59e2c135",
   "metadata": {},
   "outputs": [
    {
     "name": "stdout",
     "output_type": "stream",
     "text": [
      "After cleaning shape: (7032, 20)\n"
     ]
    }
   ],
   "source": [
    "df = df.drop('customerID', axis=1)\n",
    "df[\"TotalCharges\"] = pd.to_numeric(df[\"TotalCharges\"], errors='coerce')\n",
    "df = df.dropna()\n",
    "\n",
    "print(\"After cleaning shape:\", df.shape)"
   ]
  },
  {
   "cell_type": "code",
   "execution_count": 126,
   "id": "c131e7fb",
   "metadata": {},
   "outputs": [
    {
     "name": "stdout",
     "output_type": "stream",
     "text": [
      "Column analysis:\n",
      "gender: 2 unique values - ['Female' 'Male']\n",
      "SeniorCitizen: int64 - Range: 0 to 1\n",
      "Partner: 2 unique values - ['Yes' 'No']\n",
      "Dependents: 2 unique values - ['No' 'Yes']\n",
      "tenure: int64 - Range: 1 to 72\n",
      "PhoneService: 2 unique values - ['No' 'Yes']\n",
      "MultipleLines: 3 unique values - ['No phone service' 'No' 'Yes']\n",
      "InternetService: 3 unique values - ['DSL' 'Fiber optic' 'No']\n",
      "OnlineSecurity: 3 unique values - ['No' 'Yes' 'No internet service']\n",
      "OnlineBackup: 3 unique values - ['Yes' 'No' 'No internet service']\n",
      "DeviceProtection: 3 unique values - ['No' 'Yes' 'No internet service']\n",
      "TechSupport: 3 unique values - ['No' 'Yes' 'No internet service']\n",
      "StreamingTV: 3 unique values - ['No' 'Yes' 'No internet service']\n",
      "StreamingMovies: 3 unique values - ['No' 'Yes' 'No internet service']\n",
      "Contract: 3 unique values - ['Month-to-month' 'One year' 'Two year']\n",
      "PaperlessBilling: 2 unique values - ['Yes' 'No']\n",
      "PaymentMethod: 4 unique values - ['Electronic check' 'Mailed check' 'Bank transfer (automatic)'\n",
      " 'Credit card (automatic)']\n",
      "MonthlyCharges: float64 - Range: 18.25 to 118.75\n",
      "TotalCharges: float64 - Range: 18.8 to 8684.8\n",
      "Churn: int64 - Range: 0 to 1\n"
     ]
    }
   ],
   "source": [
    "print(\"Column analysis:\")\n",
    "for col in df.columns:\n",
    "    if df[col].dtype == 'object':\n",
    "        unique_count = df[col].nunique()\n",
    "        print(f\"{col}: {unique_count} unique values - {df[col].unique()}\")\n",
    "    else:\n",
    "        print(f\"{col}: {df[col].dtype} - Range: {df[col].min()} to {df[col].max()}\")\n"
   ]
  },
  {
   "cell_type": "code",
   "execution_count": 122,
   "id": "dde4fc3c",
   "metadata": {},
   "outputs": [
    {
     "name": "stdout",
     "output_type": "stream",
     "text": [
      "Final shape after encoding: (7032, 20)\n",
      "Final columns count: 20\n"
     ]
    }
   ],
   "source": [
    "df['Churn'] = df['Churn'].map({'Yes': 1, 'No': 0})\n",
    "print(f\"Final shape after encoding: {df.shape}\")\n",
    "print(f\"Final columns count: {len(df.columns)}\")"
   ]
  },
  {
   "cell_type": "code",
   "execution_count": 123,
   "id": "c577b5df",
   "metadata": {},
   "outputs": [],
   "source": [
    "x_train, x_test, y_train, y_test = train_test_split(df.drop(columns=[\"Churn\"]), df[\"Churn\"], test_size=0.2)"
   ]
  },
  {
   "cell_type": "code",
   "execution_count": 124,
   "id": "bda50693",
   "metadata": {},
   "outputs": [
    {
     "name": "stdout",
     "output_type": "stream",
     "text": [
      "Model accuracy: 80.88%\n"
     ]
    }
   ],
   "source": [
    "forest_model = RandomForestClassifier(random_state=42, max_depth=9, n_estimators=95)\n",
    "X_train = pd.get_dummies(x_train)\n",
    "X_test  = pd.get_dummies(x_test).reindex(columns=X_train.columns, fill_value=0)\n",
    "forest_model.fit(X_train, y_train)\n",
    "y_pred = forest_model.predict(X_test)\n",
    "accuracy = accuracy_score(y_test, y_pred)\n",
    "print(f\"Model accuracy: {accuracy*100:.2f}%\")"
   ]
  },
  {
   "cell_type": "code",
   "execution_count": 125,
   "id": "119bd524",
   "metadata": {},
   "outputs": [
    {
     "name": "stdout",
     "output_type": "stream",
     "text": [
      "Model accuracy: 81.38%\n"
     ]
    }
   ],
   "source": [
    "logistic_model = LogisticRegression(random_state=42, max_iter=10000)\n",
    "X_train = pd.get_dummies(x_train)\n",
    "X_test  = pd.get_dummies(x_test).reindex(columns=X_train.columns, fill_value=0)\n",
    "logistic_model.fit(X_train, y_train)\n",
    "y_pred = logistic_model.predict(X_test)\n",
    "accuracy = accuracy_score(y_test, y_pred)\n",
    "print(f\"Model accuracy: {accuracy*100:.2f}%\")"
   ]
  },
  {
   "cell_type": "code",
   "execution_count": null,
   "id": "accc0c2a",
   "metadata": {},
   "outputs": [],
   "source": []
  }
 ],
 "metadata": {
  "kernelspec": {
   "display_name": "Python 3",
   "language": "python",
   "name": "python3"
  },
  "language_info": {
   "codemirror_mode": {
    "name": "ipython",
    "version": 3
   },
   "file_extension": ".py",
   "mimetype": "text/x-python",
   "name": "python",
   "nbconvert_exporter": "python",
   "pygments_lexer": "ipython3",
   "version": "3.12.10"
  }
 },
 "nbformat": 4,
 "nbformat_minor": 5
}
